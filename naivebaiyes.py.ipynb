{
 "cells": [
  {
   "cell_type": "code",
   "execution_count": null,
   "id": "51a91a80",
   "metadata": {},
   "outputs": [
    {
     "name": "stdout",
     "output_type": "stream",
     "text": [
      "Accuracy: 100.00%\n"
     ]
    }
   ],
   "source": [
    "import pandas as pd\n",
    "from sklearn.model_selection import train_test_split\n",
    "from sklearn.naive_bayes import GaussianNB\n",
    "from sklearn.preprocessing import LabelEncoder\n",
    "\n",
    "# Create a DataFrame from the provided data\n",
    "data = {\n",
    "    \"Outlook\": [\"Sunny\", \"Sunny\", \"Overcast\", \"Rain\", \"Rain\", \"Rain\", \"Overcast\", \"Sunny\", \"Sunny\", \"Rain\", \"Sunny\", \"Overcast\", \"Overcast\", \"Rain\"],\n",
    "    \"Temperature\": [\"Hot\", \"Hot\", \"Hot\", \"Mild\", \"Cool\", \"Cool\", \"Cool\", \"Mild\", \"Cool\", \"Mild\", \"Mild\", \"Mild\", \"Hot\", \"Mild\"],\n",
    "    \"Humidity\": [\"High\", \"High\", \"High\", \"High\", \"Normal\", \"Normal\", \"Normal\", \"High\", \"Normal\", \"Normal\", \"Normal\", \"High\", \"Normal\", \"High\"],\n",
    "    \"Wind\": [\"Weak\", \"Strong\", \"Weak\", \"Weak\", \"Weak\", \"Strong\", \"Strong\", \"Weak\", \"Weak\", \"Weak\", \"Strong\", \"Strong\", \"Weak\", \"Strong\"],\n",
    "    \"PlayTennis\": [\"No\", \"No\", \"Yes\", \"Yes\", \"Yes\", \"No\", \"Yes\", \"No\", \"Yes\", \"Yes\", \"Yes\", \"Yes\", \"Yes\", \"No\"]\n",
    "}\n",
    "\n",
    "df = pd.DataFrame(data)\n",
    "\n",
    "# Initialize separate label encoders for each categorical variable\n",
    "outlook_encoder = LabelEncoder()\n",
    "temperature_encoder = LabelEncoder()\n",
    "humidity_encoder = LabelEncoder()\n",
    "wind_encoder = LabelEncoder()\n",
    "\n",
    "# Fit and transform each variable\n",
    "df[\"Outlook\"] = outlook_encoder.fit_transform(df[\"Outlook\"])\n",
    "df[\"Temperature\"] = temperature_encoder.fit_transform(df[\"Temperature\"])\n",
    "df[\"Humidity\"] = humidity_encoder.fit_transform(df[\"Humidity\"])\n",
    "df[\"Wind\"] = wind_encoder.fit_transform(df[\"Wind\"])\n",
    "\n",
    "# Split the data into features and target\n",
    "X = df[[\"Outlook\", \"Temperature\", \"Humidity\", \"Wind\"]]\n",
    "y = df[\"PlayTennis\"]\n",
    "\n",
    "# Split the data into training and testing sets\n",
    "X_train, X_test, y_train, y_test = train_test_split(X, y, test_size=0.2, random_state=42)\n",
    "\n",
    "# Initialize the Naive Bayes classifier\n",
    "clf = GaussianNB()\n",
    "\n",
    "# Fit the classifier to the training data\n",
    "clf.fit(X_train, y_train)\n",
    "\n",
    "# Predict on the test data\n",
    "y_pred = clf.predict(X_test)\n",
    "\n",
    "# Check the accuracy of the model\n",
    "accuracy = (y_pred == y_test).mean()\n",
    "print(f\"Accuracy: {accuracy * 100:.2f}%\")\n",
    "\n",
    "# Now, you can make predictions for new data entered by the user\n",
    "new_data = {\n",
    "    \"Outlook\": input(\"Enter Outlook (Sunny, Overcast, Rain): \"),\n",
    "    \"Temperature\": input(\"Enter Temperature (Hot, Mild, Cool): \"),\n",
    "    \"Humidity\": input(\"Enter Humidity (High, Normal): \"),\n",
    "    \"Wind\": input(\"Enter Wind (Weak, Strong): \")\n",
    "}\n",
    "\n",
    "# Transform new data using the respective label encoders\n",
    "new_data[\"Outlook\"] = outlook_encoder.transform([new_data[\"Outlook\"]])[0]\n",
    "new_data[\"Temperature\"] = temperature_encoder.transform([new_data[\"Temperature\"]])[0]\n",
    "new_data[\"Humidity\"] = humidity_encoder.transform([new_data[\"Humidity\"]])[0]\n",
    "new_data[\"Wind\"] = wind_encoder.transform([new_data[\"Wind\"]])[0]\n",
    "\n",
    "prediction = clf.predict([[new_data[\"Outlook\"], new_data[\"Temperature\"], new_data[\"Humidity\"], new_data[\"Wind\"]]])\n",
    "print(f\"Predicted PlayTennis: {prediction[0]}\")\n"
   ]
  },
  {
   "cell_type": "code",
   "execution_count": null,
   "id": "3edd9e51",
   "metadata": {},
   "outputs": [],
   "source": []
  },
  {
   "cell_type": "code",
   "execution_count": null,
   "id": "d0e50eaa",
   "metadata": {},
   "outputs": [],
   "source": []
  }
 ],
 "metadata": {
  "kernelspec": {
   "display_name": "Python 3 (ipykernel)",
   "language": "python",
   "name": "python3"
  },
  "language_info": {
   "codemirror_mode": {
    "name": "ipython",
    "version": 3
   },
   "file_extension": ".py",
   "mimetype": "text/x-python",
   "name": "python",
   "nbconvert_exporter": "python",
   "pygments_lexer": "ipython3",
   "version": "3.10.5"
  }
 },
 "nbformat": 4,
 "nbformat_minor": 5
}
